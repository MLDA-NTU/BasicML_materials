{
 "cells": [
  {
   "cell_type": "code",
   "execution_count": 1,
   "metadata": {},
   "outputs": [],
   "source": [
    "import numpy as np\n"
   ]
  },
  {
   "cell_type": "code",
   "execution_count": 2,
   "metadata": {},
   "outputs": [],
   "source": [
    "def sigmoid(x):\n",
    "    return 1/(1+np.exp(-x))"
   ]
  },
  {
   "cell_type": "code",
   "execution_count": 11,
   "metadata": {},
   "outputs": [],
   "source": [
    "def sigmoid_derivate(x):\n",
    "    return x*(1-x)"
   ]
  },
  {
   "cell_type": "code",
   "execution_count": 3,
   "metadata": {},
   "outputs": [],
   "source": [
    "training_inputs=np.array([[0,0,1],[1,1,1],[1,0,1],[0,1,1]])\n",
    "training_outputs=np.array([[0,1,1,0]]).T\n",
    "\n"
   ]
  },
  {
   "cell_type": "code",
   "execution_count": 4,
   "metadata": {},
   "outputs": [],
   "source": [
    "np.random.seed(1)"
   ]
  },
  {
   "cell_type": "code",
   "execution_count": 5,
   "metadata": {},
   "outputs": [
    {
     "name": "stdout",
     "output_type": "stream",
     "text": [
      "Random starting synaptic weights:\n",
      "[[-0.16595599]\n",
      " [ 0.44064899]\n",
      " [-0.99977125]]\n"
     ]
    }
   ],
   "source": [
    "synaptic_weights = 2*np.random.random((3,1))-1\n",
    "print(\"Random starting synaptic weights:\")\n",
    "print(synaptic_weights)"
   ]
  },
  {
   "cell_type": "code",
   "execution_count": 12,
   "metadata": {},
   "outputs": [
    {
     "name": "stdout",
     "output_type": "stream",
     "text": [
      "synaptic weights after training:\n",
      "[[10.38040701]\n",
      " [-0.20641179]\n",
      " [-4.98452047]]\n",
      "Outputs after training:\n",
      "[[0.00679672]\n",
      " [0.99445583]\n",
      " [0.99548516]\n",
      " [0.00553614]]\n"
     ]
    }
   ],
   "source": [
    "for iteration in range(20000):\n",
    "    input_layer=training_inputs\n",
    "    outputs = sigmoid(np.dot(input_layer, synaptic_weights))\n",
    "    error= training_outputs - outputs\n",
    "    \n",
    "    adjustments= error * sigmoid_derivate(outputs)\n",
    "    \n",
    "    synaptic_weights += np.dot(input_layer.T, adjustments)\n",
    "    \n",
    "print(\"synaptic weights after training:\")\n",
    "print(synaptic_weights)\n",
    "    \n",
    "print(\"Outputs after training:\")\n",
    "print(outputs)"
   ]
  },
  {
   "cell_type": "code",
   "execution_count": null,
   "metadata": {},
   "outputs": [],
   "source": [
    "# x1=0, x2=0, x3=1 \n",
    "# w1=-0.165, w2=0.44, w3=-0.99\n",
    "# X=Sum(x1w1+x2w2+x3w3...)\n",
    "# y=sigmod(X)\n",
    "# Calculation with random weights"
   ]
  },
  {
   "cell_type": "code",
   "execution_count": null,
   "metadata": {},
   "outputs": [],
   "source": [
    "# Training Process\n",
    "# 1. Take the inputs from the training example, and put them through our formula to get the neuron's output\n",
    "# 2. Calculate the error which is the difference between the output we got and the acutal output\n",
    "# 3. Depending on severeness of the error and adjust the weights accordingly\n",
    "# 4. Repeat this 20000 times\n"
   ]
  },
  {
   "cell_type": "code",
   "execution_count": null,
   "metadata": {},
   "outputs": [],
   "source": [
    "# Error Weighted dy/dx\n",
    "# Adjusts weights by =error.input.changes(output)"
   ]
  }
 ],
 "metadata": {
  "kernelspec": {
   "display_name": "Python 3",
   "language": "python",
   "name": "python3"
  },
  "language_info": {
   "codemirror_mode": {
    "name": "ipython",
    "version": 3
   },
   "file_extension": ".py",
   "mimetype": "text/x-python",
   "name": "python",
   "nbconvert_exporter": "python",
   "pygments_lexer": "ipython3",
   "version": "3.7.6"
  }
 },
 "nbformat": 4,
 "nbformat_minor": 4
}
